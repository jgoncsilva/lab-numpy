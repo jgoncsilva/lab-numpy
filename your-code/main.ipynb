{
 "cells": [
  {
   "cell_type": "markdown",
   "metadata": {},
   "source": [
    "# Intrduction to NumPy\n",
    "\n",
    "\n",
    "#### 1. Import NumPy under the name np."
   ]
  },
  {
   "cell_type": "code",
   "execution_count": 2,
   "metadata": {},
   "outputs": [],
   "source": [
    "import numpy as np"
   ]
  },
  {
   "cell_type": "markdown",
   "metadata": {},
   "source": [
    "#### 2. Print your NumPy version."
   ]
  },
  {
   "cell_type": "code",
   "execution_count": 3,
   "metadata": {},
   "outputs": [
    {
     "data": {
      "text/plain": [
       "'1.18.1'"
      ]
     },
     "execution_count": 3,
     "metadata": {},
     "output_type": "execute_result"
    }
   ],
   "source": [
    "np.__version__"
   ]
  },
  {
   "cell_type": "markdown",
   "metadata": {},
   "source": [
    "#### 3. Generate a 2x3x5 3-dimensional array with random values. Assign the array to variable *a*.\n",
    "**Challenge**: there are at least three easy ways that use numpy to generate random arrays. How many ways can you find?"
   ]
  },
  {
   "cell_type": "code",
   "execution_count": 4,
   "metadata": {},
   "outputs": [
    {
     "data": {
      "text/plain": [
       "(2, 3, 5)"
      ]
     },
     "execution_count": 4,
     "metadata": {},
     "output_type": "execute_result"
    }
   ],
   "source": [
    "a = np.random.randint(2, 15, size=(2,3,5))\n",
    "a.shape"
   ]
  },
  {
   "cell_type": "code",
   "execution_count": 5,
   "metadata": {},
   "outputs": [
    {
     "data": {
      "text/plain": [
       "(2, 3, 5)"
      ]
     },
     "execution_count": 5,
     "metadata": {},
     "output_type": "execute_result"
    }
   ],
   "source": [
    "a = np.random.rand(2,3,5) #rand - de 0 a 1\n",
    "a.shape"
   ]
  },
  {
   "cell_type": "code",
   "execution_count": 6,
   "metadata": {},
   "outputs": [
    {
     "data": {
      "text/plain": [
       "(2, 3, 5)"
      ]
     },
     "execution_count": 6,
     "metadata": {},
     "output_type": "execute_result"
    }
   ],
   "source": [
    "#a = np.random.uniform(low = 2, high = 3, size = 5) # Trye\n",
    "#a = np.random.choice(2,3,5)\n",
    "a = np.random.random((2,3,5)) #with negative numbers\n",
    "a.shape"
   ]
  },
  {
   "cell_type": "markdown",
   "metadata": {},
   "source": [
    "#### 4. Print *a*.\n"
   ]
  },
  {
   "cell_type": "code",
   "execution_count": 7,
   "metadata": {},
   "outputs": [
    {
     "name": "stdout",
     "output_type": "stream",
     "text": [
      "[[[0.34747413 0.98773866 0.2031462  0.77061017 0.17825109]\n",
      "  [0.78627188 0.1856317  0.79620119 0.61912943 0.0362252 ]\n",
      "  [0.50236616 0.74465093 0.16553572 0.70290965 0.40962866]]\n",
      "\n",
      " [[0.3739402  0.85655762 0.88587278 0.65339948 0.81160438]\n",
      "  [0.27844821 0.36051207 0.23156242 0.56586291 0.33710416]\n",
      "  [0.7916235  0.88051315 0.11558167 0.82739294 0.89673734]]]\n"
     ]
    }
   ],
   "source": [
    "print(a)"
   ]
  },
  {
   "cell_type": "markdown",
   "metadata": {},
   "source": [
    "#### 5. Create a 5x2x3 3-dimensional array with all values equaling 1. Assign the array to variable *b*."
   ]
  },
  {
   "cell_type": "code",
   "execution_count": 8,
   "metadata": {},
   "outputs": [],
   "source": [
    "b = np.ones((5, 2, 3), dtype = int) #changed to 5x2x3"
   ]
  },
  {
   "cell_type": "markdown",
   "metadata": {},
   "source": [
    "#### 6. Print *b*.\n"
   ]
  },
  {
   "cell_type": "code",
   "execution_count": 9,
   "metadata": {},
   "outputs": [
    {
     "name": "stdout",
     "output_type": "stream",
     "text": [
      "[[[1 1 1]\n",
      "  [1 1 1]]\n",
      "\n",
      " [[1 1 1]\n",
      "  [1 1 1]]\n",
      "\n",
      " [[1 1 1]\n",
      "  [1 1 1]]\n",
      "\n",
      " [[1 1 1]\n",
      "  [1 1 1]]\n",
      "\n",
      " [[1 1 1]\n",
      "  [1 1 1]]]\n"
     ]
    }
   ],
   "source": [
    "print(b)"
   ]
  },
  {
   "cell_type": "markdown",
   "metadata": {},
   "source": [
    "#### 7. Do *a* and *b* have the same size? How do you prove that in Python code?"
   ]
  },
  {
   "cell_type": "code",
   "execution_count": 10,
   "metadata": {},
   "outputs": [
    {
     "data": {
      "text/plain": [
       "True"
      ]
     },
     "execution_count": 10,
     "metadata": {},
     "output_type": "execute_result"
    }
   ],
   "source": [
    "a.size == b.size"
   ]
  },
  {
   "cell_type": "markdown",
   "metadata": {},
   "source": [
    "#### 8. Are you able to add *a* and *b*? Why or why not?\n"
   ]
  },
  {
   "cell_type": "code",
   "execution_count": 11,
   "metadata": {},
   "outputs": [
    {
     "ename": "NameError",
     "evalue": "name 'npconcatenate' is not defined",
     "output_type": "error",
     "traceback": [
      "\u001b[1;31m---------------------------------------------------------------------------\u001b[0m",
      "\u001b[1;31mNameError\u001b[0m                                 Traceback (most recent call last)",
      "\u001b[1;32m<ipython-input-11-4b8067bb4220>\u001b[0m in \u001b[0;36m<module>\u001b[1;34m\u001b[0m\n\u001b[1;32m----> 1\u001b[1;33m \u001b[0mc\u001b[0m \u001b[1;33m=\u001b[0m \u001b[0mnpconcatenate\u001b[0m\u001b[1;33m(\u001b[0m\u001b[1;33m(\u001b[0m\u001b[0ma\u001b[0m\u001b[1;33m,\u001b[0m \u001b[0mb\u001b[0m\u001b[1;33m)\u001b[0m\u001b[1;33m)\u001b[0m \u001b[1;31m#Different dimension cannot concat\u001b[0m\u001b[1;33m\u001b[0m\u001b[1;33m\u001b[0m\u001b[0m\n\u001b[0m",
      "\u001b[1;31mNameError\u001b[0m: name 'npconcatenate' is not defined"
     ]
    }
   ],
   "source": [
    "c = npconcatenate((a, b)) #Different dimension cannot concat"
   ]
  },
  {
   "cell_type": "markdown",
   "metadata": {},
   "source": [
    "#### 9. Transpose *b* so that it has the same structure of *a* (i.e. become a 2x3x5 array). Assign the transposed array to variable *c*."
   ]
  },
  {
   "cell_type": "code",
   "execution_count": 12,
   "metadata": {},
   "outputs": [
    {
     "name": "stdout",
     "output_type": "stream",
     "text": [
      "(2, 3, 5)\n"
     ]
    }
   ],
   "source": [
    "c = b.transpose(1, 2, 0)\n",
    "print(c.shape)"
   ]
  },
  {
   "cell_type": "markdown",
   "metadata": {},
   "source": [
    "#### 10. Try to add *a* and *c*. Now it should work. Assign the sum to variable *d*. But why does it work now?"
   ]
  },
  {
   "cell_type": "code",
   "execution_count": 52,
   "metadata": {},
   "outputs": [
    {
     "name": "stdout",
     "output_type": "stream",
     "text": [
      "(2, 3, 5)\n"
     ]
    }
   ],
   "source": [
    "d = a + c #works because when i did transpose he starts to work\n",
    "print(d.shape)"
   ]
  },
  {
   "cell_type": "markdown",
   "metadata": {},
   "source": [
    "#### 11. Print *a* and *d*. Notice the difference and relation of the two array in terms of the values? Explain."
   ]
  },
  {
   "cell_type": "code",
   "execution_count": 53,
   "metadata": {},
   "outputs": [
    {
     "name": "stdout",
     "output_type": "stream",
     "text": [
      "array a : \n",
      "[[[0.34747413 0.98773866 0.2031462  0.77061017 0.17825109]\n",
      "  [0.78627188 0.1856317  0.79620119 0.61912943 0.0362252 ]\n",
      "  [0.50236616 0.74465093 0.16553572 0.70290965 0.40962866]]\n",
      "\n",
      " [[0.3739402  0.85655762 0.88587278 0.65339948 0.81160438]\n",
      "  [0.27844821 0.36051207 0.23156242 0.56586291 0.33710416]\n",
      "  [0.7916235  0.88051315 0.11558167 0.82739294 0.89673734]]] float64\n",
      "array d: \n",
      "[[[1.34747413 1.98773866 1.2031462  1.77061017 1.17825109]\n",
      "  [1.78627188 1.1856317  1.79620119 1.61912943 1.0362252 ]\n",
      "  [1.50236616 1.74465093 1.16553572 1.70290965 1.40962866]]\n",
      "\n",
      " [[1.3739402  1.85655762 1.88587278 1.65339948 1.81160438]\n",
      "  [1.27844821 1.36051207 1.23156242 1.56586291 1.33710416]\n",
      "  [1.7916235  1.88051315 1.11558167 1.82739294 1.89673734]]] float64\n"
     ]
    }
   ],
   "source": [
    "print('array a : ')\n",
    "print(a, a.dtype)\n",
    "print('array d: ')\n",
    "print(d, d.dtype)"
   ]
  },
  {
   "cell_type": "markdown",
   "metadata": {},
   "source": [
    "#### 12. Multiply *a* and *c*. Assign the result to *e*."
   ]
  },
  {
   "cell_type": "code",
   "execution_count": 54,
   "metadata": {},
   "outputs": [
    {
     "name": "stdout",
     "output_type": "stream",
     "text": [
      "[[[0.34747413 0.98773866 0.2031462  0.77061017 0.17825109]\n",
      "  [0.78627188 0.1856317  0.79620119 0.61912943 0.0362252 ]\n",
      "  [0.50236616 0.74465093 0.16553572 0.70290965 0.40962866]]\n",
      "\n",
      " [[0.3739402  0.85655762 0.88587278 0.65339948 0.81160438]\n",
      "  [0.27844821 0.36051207 0.23156242 0.56586291 0.33710416]\n",
      "  [0.7916235  0.88051315 0.11558167 0.82739294 0.89673734]]]\n"
     ]
    }
   ],
   "source": [
    "e = np.multiply(a, c)\n",
    "print(e)"
   ]
  },
  {
   "cell_type": "markdown",
   "metadata": {},
   "source": [
    "#### 13. Does *e* equal to *a*? Why or why not?\n"
   ]
  },
  {
   "cell_type": "code",
   "execution_count": 55,
   "metadata": {},
   "outputs": [
    {
     "data": {
      "text/plain": [
       "True"
      ]
     },
     "execution_count": 55,
     "metadata": {},
     "output_type": "execute_result"
    }
   ],
   "source": [
    "np.array_equal(e, a)"
   ]
  },
  {
   "cell_type": "markdown",
   "metadata": {},
   "source": [
    "#### 14. Identify the max, min, and mean values in *d*. Assign those values to variables *d_max*, *d_min* and *d_mean*."
   ]
  },
  {
   "cell_type": "code",
   "execution_count": 60,
   "metadata": {},
   "outputs": [
    {
     "name": "stdout",
     "output_type": "stream",
     "text": [
      "max: 1.99\n",
      "min: 1.04\n",
      "mean: 1.54\n"
     ]
    }
   ],
   "source": [
    "d_max = np.max(d)\n",
    "d_min = np.min(d)\n",
    "d_mean = np.mean(d)\n",
    "print('max:', round(d_max, 2))\n",
    "print('min:', round(d_min, 2))\n",
    "print('mean:', round(d_mean, 2))"
   ]
  },
  {
   "cell_type": "markdown",
   "metadata": {},
   "source": [
    "#### 15. Now we want to label the values in *d*. First create an empty array *f* with the same shape (i.e. 2x3x5) as *d* using `np.empty`.\n"
   ]
  },
  {
   "cell_type": "code",
   "execution_count": 61,
   "metadata": {},
   "outputs": [
    {
     "name": "stdout",
     "output_type": "stream",
     "text": [
      "[[[ 25. 100.  25.  75.  25.]\n",
      "  [ 75.  25.  75.  75.   0.]\n",
      "  [ 25.  75.  25.  75.  25.]]\n",
      "\n",
      " [[ 25.  75.  75.  75.  75.]\n",
      "  [ 25.  25.  25.  75.  25.]\n",
      "  [ 75.  75.  25.  75.  75.]]]\n"
     ]
    }
   ],
   "source": [
    "f = np.empty([2, 3, 5])\n",
    "print(f)"
   ]
  },
  {
   "cell_type": "markdown",
   "metadata": {},
   "source": [
    "#### 16. Populate the values in *f*. \n",
    "\n",
    "For each value in *d*, if it's larger than *d_min* but smaller than *d_mean*, assign 25 to the corresponding value in *f*. If a value in *d* is larger than *d_mean* but smaller than *d_max*, assign 75 to the corresponding value in *f*. If a value equals to *d_mean*, assign 50 to the corresponding value in *f*. Assign 0 to the corresponding value(s) in *f* for *d_min* in *d*. Assign 100 to the corresponding value(s) in *f* for *d_max* in *d*. In the end, f should have only the following values: 0, 25, 50, 75, and 100.\n",
    "\n",
    "**Note**: you don't have to use Numpy in this question."
   ]
  },
  {
   "cell_type": "code",
   "execution_count": 62,
   "metadata": {},
   "outputs": [
    {
     "name": "stdout",
     "output_type": "stream",
     "text": [
      "[[[ 25. 100.  25.  75.  25.]\n",
      "  [ 75.  25.  75.  75.   0.]\n",
      "  [ 25.  75.  25.  75.  25.]]\n",
      "\n",
      " [[ 25.  75.  75.  75.  75.]\n",
      "  [ 25.  25.  25.  75.  25.]\n",
      "  [ 75.  75.  25.  75.  75.]]]\n"
     ]
    },
    {
     "data": {
      "text/plain": [
       "'f = [0 if (elem == d_min) else 25 if (elem < d_mean) else 50 if (elem == d_mean) else 75 if (elem < d_max) else 100 for z in d for y in z for elem in y]'"
      ]
     },
     "execution_count": 62,
     "metadata": {},
     "output_type": "execute_result"
    }
   ],
   "source": [
    "f[(d_min < d) & (d< d_mean)] = 25\n",
    "f[(d_mean < d) & (d < d_max)] = 75\n",
    "f[d == d_mean] = 50\n",
    "f[d == d_min] = 0 \n",
    "f[d == d_max] = 100\n",
    "\n",
    "print(f)\n",
    "'f = [0 if (elem == d_min) else 25 if (elem < d_mean) else 50 if (elem == d_mean) else 75 if (elem < d_max) else 100 for z in d for y in z for elem in y]'"
   ]
  },
  {
   "cell_type": "markdown",
   "metadata": {},
   "source": [
    "#### 17. Print *d* and *f*. Do you have your expected *f*?\n",
    "For instance, if your *d* is:\n",
    "```python\n",
    "[[[1.85836099, 1.67064465, 1.62576044, 1.40243961, 1.88454931],\n",
    "[1.75354326, 1.69403643, 1.36729252, 1.61415071, 1.12104981],\n",
    "[1.72201435, 1.1862918 , 1.87078449, 1.7726778 , 1.88180042]],\n",
    "[[1.44747908, 1.31673383, 1.02000951, 1.52218947, 1.97066381],\n",
    "[1.79129243, 1.74983003, 1.96028037, 1.85166831, 1.65450881],\n",
    "[1.18068344, 1.9587381 , 1.00656599, 1.93402165, 1.73514584]]]\n",
    "```\n",
    "Your *f* should be:\n",
    "```python\n",
    "[[[ 75.,  75.,  75.,  25.,  75.],\n",
    "[ 75.,  75.,  25.,  25.,  25.],\n",
    "[ 75.,  25.,  75.,  75.,  75.]],\n",
    "[[ 25.,  25.,  25.,  25., 100.],\n",
    "[ 75.,  75.,  75.,  75.,  75.],\n",
    "[ 25.,  75.,   0.,  75.,  75.]]]\n",
    "```"
   ]
  },
  {
   "cell_type": "code",
   "execution_count": 63,
   "metadata": {},
   "outputs": [
    {
     "name": "stdout",
     "output_type": "stream",
     "text": [
      "[[[1.34747413 1.98773866 1.2031462  1.77061017 1.17825109]\n",
      "  [1.78627188 1.1856317  1.79620119 1.61912943 1.0362252 ]\n",
      "  [1.50236616 1.74465093 1.16553572 1.70290965 1.40962866]]\n",
      "\n",
      " [[1.3739402  1.85655762 1.88587278 1.65339948 1.81160438]\n",
      "  [1.27844821 1.36051207 1.23156242 1.56586291 1.33710416]\n",
      "  [1.7916235  1.88051315 1.11558167 1.82739294 1.89673734]]]\n",
      "[[[ 25. 100.  25.  75.  25.]\n",
      "  [ 75.  25.  75.  75.   0.]\n",
      "  [ 25.  75.  25.  75.  25.]]\n",
      "\n",
      " [[ 25.  75.  75.  75.  75.]\n",
      "  [ 25.  25.  25.  75.  25.]\n",
      "  [ 75.  75.  25.  75.  75.]]]\n"
     ]
    }
   ],
   "source": [
    "print(d)\n",
    "print(f)"
   ]
  },
  {
   "cell_type": "markdown",
   "metadata": {},
   "source": [
    "#### 18. Bonus question: instead of using numbers (i.e. 0, 25, 50, 75, and 100), use string values  (\"A\", \"B\", \"C\", \"D\", and \"E\") to label the array elements. For the example above, the expected result is:\n",
    "\n",
    "```python\n",
    "[[[ 'D',  'D',  'D',  'B',  'D'],\n",
    "[ 'D',  'D',  'B',  'B',  'B'],\n",
    "[ 'D',  'B',  'D',  'D',  'D']],\n",
    "[[ 'B',  'B',  'B',  'B',  'E'],\n",
    "[ 'D',  'D',  'D',  'D',  'D'],\n",
    "[ 'B',  'D',   'A',  'D', 'D']]]\n",
    "```\n",
    "**Note**: you don't have to use Numpy in this question."
   ]
  },
  {
   "cell_type": "code",
   "execution_count": 66,
   "metadata": {},
   "outputs": [
    {
     "name": "stdout",
     "output_type": "stream",
     "text": [
      "[[['B' 'E' 'B' 'D' 'B']\n",
      "  ['D' 'B' 'D' 'D' 'A']\n",
      "  ['B' 'D' 'B' 'D' 'B']]\n",
      "\n",
      " [['B' 'D' 'D' 'D' 'D']\n",
      "  ['B' 'B' 'B' 'D' 'B']\n",
      "  ['D' 'D' 'B' 'D' 'D']]]\n"
     ]
    }
   ],
   "source": [
    "g = np.empty((2,3,5), dtype = str)\n",
    "\n",
    "g[(d_min < d) & (d < d_mean)] = 'B'\n",
    "g[(d_mean < d) & (d < d_max)] = 'D'\n",
    "g[d == d_mean] = 'C'\n",
    "g[d ==d_min] = 'A'\n",
    "g[d == d_max] = 'E'\n",
    "print(g)"
   ]
  }
 ],
 "metadata": {
  "kernelspec": {
   "display_name": "Python 3",
   "language": "python",
   "name": "python3"
  },
  "language_info": {
   "codemirror_mode": {
    "name": "ipython",
    "version": 3
   },
   "file_extension": ".py",
   "mimetype": "text/x-python",
   "name": "python",
   "nbconvert_exporter": "python",
   "pygments_lexer": "ipython3",
   "version": "3.7.6"
  }
 },
 "nbformat": 4,
 "nbformat_minor": 2
}
